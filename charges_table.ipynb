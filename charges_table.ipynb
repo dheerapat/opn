{
 "cells": [
  {
   "cell_type": "code",
   "execution_count": 1,
   "id": "790555e3-11b9-43ac-99d0-742ea24a3f98",
   "metadata": {},
   "outputs": [],
   "source": [
    "import pandas as pd\n",
    "import numpy as np\n",
    "import datetime"
   ]
  },
  {
   "cell_type": "code",
   "execution_count": 2,
   "id": "2fca67b7-4888-45ef-9e16-362cbfb32112",
   "metadata": {},
   "outputs": [
    {
     "name": "stdout",
     "output_type": "stream",
     "text": [
      "<class 'pandas.core.frame.DataFrame'>\n",
      "RangeIndex: 19442 entries, 0 to 19441\n",
      "Data columns (total 11 columns):\n",
      " #   Column             Non-Null Count  Dtype         \n",
      "---  ------             --------------  -----         \n",
      " 0   day                19442 non-null  int64         \n",
      " 1   month              19442 non-null  int64         \n",
      " 2   year               19442 non-null  int64         \n",
      " 3   created_date       19442 non-null  datetime64[ns]\n",
      " 4   id                 19442 non-null  int64         \n",
      " 5   merchant_id        19442 non-null  int64         \n",
      " 6   payment_method_id  19442 non-null  object        \n",
      " 7   charged_amount     13463 non-null  float64       \n",
      " 8   captured           19442 non-null  bool          \n",
      " 9   failure_code       2920 non-null   object        \n",
      " 10  card_id            10172 non-null  float64       \n",
      "dtypes: bool(1), datetime64[ns](1), float64(2), int64(5), object(2)\n",
      "memory usage: 1.5+ MB\n"
     ]
    }
   ],
   "source": [
    "charges = pd.read_csv('charges.csv', parse_dates=['created_date'])\n",
    "charges.info()"
   ]
  },
  {
   "cell_type": "code",
   "execution_count": 3,
   "id": "37aafa25-2200-4806-8ac2-20eaf046dc8f",
   "metadata": {},
   "outputs": [],
   "source": [
    "charges = charges.drop(columns=['day','month','year'])"
   ]
  },
  {
   "cell_type": "code",
   "execution_count": 4,
   "id": "53119cf8-567e-4178-ac30-f2598a023234",
   "metadata": {},
   "outputs": [
    {
     "data": {
      "text/html": [
       "<div>\n",
       "<style scoped>\n",
       "    .dataframe tbody tr th:only-of-type {\n",
       "        vertical-align: middle;\n",
       "    }\n",
       "\n",
       "    .dataframe tbody tr th {\n",
       "        vertical-align: top;\n",
       "    }\n",
       "\n",
       "    .dataframe thead th {\n",
       "        text-align: right;\n",
       "    }\n",
       "</style>\n",
       "<table border=\"1\" class=\"dataframe\">\n",
       "  <thead>\n",
       "    <tr style=\"text-align: right;\">\n",
       "      <th></th>\n",
       "      <th>created_date</th>\n",
       "      <th>id</th>\n",
       "      <th>merchant_id</th>\n",
       "      <th>payment_method_id</th>\n",
       "      <th>charged_amount</th>\n",
       "      <th>captured</th>\n",
       "      <th>failure_code</th>\n",
       "      <th>card_id</th>\n",
       "    </tr>\n",
       "  </thead>\n",
       "  <tbody>\n",
       "    <tr>\n",
       "      <th>0</th>\n",
       "      <td>2020-01-01</td>\n",
       "      <td>68488939</td>\n",
       "      <td>16129</td>\n",
       "      <td>P001</td>\n",
       "      <td>NaN</td>\n",
       "      <td>False</td>\n",
       "      <td>invalid_security_code</td>\n",
       "      <td>44685105.0</td>\n",
       "    </tr>\n",
       "    <tr>\n",
       "      <th>1</th>\n",
       "      <td>2020-01-01</td>\n",
       "      <td>68474516</td>\n",
       "      <td>71206</td>\n",
       "      <td>P001</td>\n",
       "      <td>12.00</td>\n",
       "      <td>True</td>\n",
       "      <td>NaN</td>\n",
       "      <td>43249411.0</td>\n",
       "    </tr>\n",
       "    <tr>\n",
       "      <th>2</th>\n",
       "      <td>2020-01-01</td>\n",
       "      <td>68546102</td>\n",
       "      <td>61534</td>\n",
       "      <td>P001</td>\n",
       "      <td>37.00</td>\n",
       "      <td>True</td>\n",
       "      <td>NaN</td>\n",
       "      <td>28514673.0</td>\n",
       "    </tr>\n",
       "    <tr>\n",
       "      <th>3</th>\n",
       "      <td>2020-01-01</td>\n",
       "      <td>68520484</td>\n",
       "      <td>61534</td>\n",
       "      <td>P001</td>\n",
       "      <td>177.00</td>\n",
       "      <td>True</td>\n",
       "      <td>NaN</td>\n",
       "      <td>38992215.0</td>\n",
       "    </tr>\n",
       "    <tr>\n",
       "      <th>4</th>\n",
       "      <td>2020-01-01</td>\n",
       "      <td>68507667</td>\n",
       "      <td>3045</td>\n",
       "      <td>P001</td>\n",
       "      <td>1972.57</td>\n",
       "      <td>True</td>\n",
       "      <td>NaN</td>\n",
       "      <td>44692929.0</td>\n",
       "    </tr>\n",
       "  </tbody>\n",
       "</table>\n",
       "</div>"
      ],
      "text/plain": [
       "  created_date        id  merchant_id payment_method_id  charged_amount  \\\n",
       "0   2020-01-01  68488939        16129              P001             NaN   \n",
       "1   2020-01-01  68474516        71206              P001           12.00   \n",
       "2   2020-01-01  68546102        61534              P001           37.00   \n",
       "3   2020-01-01  68520484        61534              P001          177.00   \n",
       "4   2020-01-01  68507667         3045              P001         1972.57   \n",
       "\n",
       "   captured           failure_code     card_id  \n",
       "0     False  invalid_security_code  44685105.0  \n",
       "1      True                    NaN  43249411.0  \n",
       "2      True                    NaN  28514673.0  \n",
       "3      True                    NaN  38992215.0  \n",
       "4      True                    NaN  44692929.0  "
      ]
     },
     "execution_count": 4,
     "metadata": {},
     "output_type": "execute_result"
    }
   ],
   "source": [
    "charges.head()"
   ]
  },
  {
   "cell_type": "code",
   "execution_count": 5,
   "id": "731eda75-173f-4c27-94da-fffb0c4ac826",
   "metadata": {},
   "outputs": [],
   "source": [
    "charges.to_csv('charges_cleaned.csv',index=False)"
   ]
  }
 ],
 "metadata": {
  "kernelspec": {
   "display_name": "Python 3 (ipykernel)",
   "language": "python",
   "name": "python3"
  },
  "language_info": {
   "codemirror_mode": {
    "name": "ipython",
    "version": 3
   },
   "file_extension": ".py",
   "mimetype": "text/x-python",
   "name": "python",
   "nbconvert_exporter": "python",
   "pygments_lexer": "ipython3",
   "version": "3.9.7"
  }
 },
 "nbformat": 4,
 "nbformat_minor": 5
}
