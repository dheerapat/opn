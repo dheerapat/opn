{
 "cells": [
  {
   "cell_type": "code",
   "execution_count": 1,
   "id": "8713390e-312e-4771-8278-5d40e0af1e46",
   "metadata": {},
   "outputs": [],
   "source": [
    "import pandas as pd\n",
    "import numpy as np\n",
    "import datetime"
   ]
  },
  {
   "cell_type": "code",
   "execution_count": 2,
   "id": "bf15015e-35a8-4977-b581-5e2f336e4d89",
   "metadata": {},
   "outputs": [
    {
     "name": "stdout",
     "output_type": "stream",
     "text": [
      "<class 'pandas.core.frame.DataFrame'>\n",
      "RangeIndex: 510 entries, 0 to 509\n",
      "Data columns (total 4 columns):\n",
      " #   Column             Non-Null Count  Dtype         \n",
      "---  ------             --------------  -----         \n",
      " 0   merchant_id        510 non-null    int64         \n",
      " 1   merchant_name      510 non-null    object        \n",
      " 2   merchant_category  510 non-null    object        \n",
      " 3   live_created_date  510 non-null    datetime64[ns]\n",
      "dtypes: datetime64[ns](1), int64(1), object(2)\n",
      "memory usage: 16.1+ KB\n"
     ]
    }
   ],
   "source": [
    "merchants = pd.read_csv('merchants.csv', parse_dates=['live_created_date'], dayfirst=True)\n",
    "merchants.info()"
   ]
  },
  {
   "cell_type": "code",
   "execution_count": 3,
   "id": "5e42c854-a1f3-4297-b476-25d63c7db22d",
   "metadata": {},
   "outputs": [
    {
     "data": {
      "text/html": [
       "<div>\n",
       "<style scoped>\n",
       "    .dataframe tbody tr th:only-of-type {\n",
       "        vertical-align: middle;\n",
       "    }\n",
       "\n",
       "    .dataframe tbody tr th {\n",
       "        vertical-align: top;\n",
       "    }\n",
       "\n",
       "    .dataframe thead th {\n",
       "        text-align: right;\n",
       "    }\n",
       "</style>\n",
       "<table border=\"1\" class=\"dataframe\">\n",
       "  <thead>\n",
       "    <tr style=\"text-align: right;\">\n",
       "      <th></th>\n",
       "      <th>merchant_id</th>\n",
       "      <th>merchant_name</th>\n",
       "      <th>merchant_category</th>\n",
       "      <th>live_created_date</th>\n",
       "    </tr>\n",
       "  </thead>\n",
       "  <tbody>\n",
       "    <tr>\n",
       "      <th>0</th>\n",
       "      <td>293</td>\n",
       "      <td>GoodHope</td>\n",
       "      <td>PROFESSIONAL SERVICES</td>\n",
       "      <td>2014-11-19</td>\n",
       "    </tr>\n",
       "    <tr>\n",
       "      <th>1</th>\n",
       "      <td>422</td>\n",
       "      <td>CornerDigi</td>\n",
       "      <td>DIGITAL GOODS AND STATIONERY</td>\n",
       "      <td>2014-12-09</td>\n",
       "    </tr>\n",
       "    <tr>\n",
       "      <th>2</th>\n",
       "      <td>616</td>\n",
       "      <td>GoldenRing</td>\n",
       "      <td>FINANCIAL SERVICES</td>\n",
       "      <td>2015-01-08</td>\n",
       "    </tr>\n",
       "    <tr>\n",
       "      <th>3</th>\n",
       "      <td>1010</td>\n",
       "      <td>Pharma</td>\n",
       "      <td>MEDICAL CARE AND EQUIPMENT</td>\n",
       "      <td>2015-03-23</td>\n",
       "    </tr>\n",
       "    <tr>\n",
       "      <th>4</th>\n",
       "      <td>1018</td>\n",
       "      <td>EagleCall</td>\n",
       "      <td>TELECOMMUNICATION</td>\n",
       "      <td>2015-03-24</td>\n",
       "    </tr>\n",
       "  </tbody>\n",
       "</table>\n",
       "</div>"
      ],
      "text/plain": [
       "   merchant_id merchant_name             merchant_category live_created_date\n",
       "0          293      GoodHope         PROFESSIONAL SERVICES        2014-11-19\n",
       "1          422    CornerDigi  DIGITAL GOODS AND STATIONERY        2014-12-09\n",
       "2          616    GoldenRing            FINANCIAL SERVICES        2015-01-08\n",
       "3         1010        Pharma    MEDICAL CARE AND EQUIPMENT        2015-03-23\n",
       "4         1018     EagleCall             TELECOMMUNICATION        2015-03-24"
      ]
     },
     "execution_count": 3,
     "metadata": {},
     "output_type": "execute_result"
    }
   ],
   "source": [
    "merchants.head()"
   ]
  },
  {
   "cell_type": "code",
   "execution_count": 4,
   "id": "3396221a-ef8d-4440-9fe4-81253cd3a061",
   "metadata": {},
   "outputs": [],
   "source": [
    "merchants.to_csv('merchants_cleaned.csv',index=False)"
   ]
  }
 ],
 "metadata": {
  "kernelspec": {
   "display_name": "Python 3 (ipykernel)",
   "language": "python",
   "name": "python3"
  },
  "language_info": {
   "codemirror_mode": {
    "name": "ipython",
    "version": 3
   },
   "file_extension": ".py",
   "mimetype": "text/x-python",
   "name": "python",
   "nbconvert_exporter": "python",
   "pygments_lexer": "ipython3",
   "version": "3.9.7"
  }
 },
 "nbformat": 4,
 "nbformat_minor": 5
}
