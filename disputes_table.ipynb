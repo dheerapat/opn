{
 "cells": [
  {
   "cell_type": "code",
   "execution_count": 1,
   "id": "d0542546-6a04-4779-8f86-61454098e652",
   "metadata": {},
   "outputs": [],
   "source": [
    "import pandas as pd\n",
    "import numpy as np\n",
    "import datetime"
   ]
  },
  {
   "cell_type": "code",
   "execution_count": 2,
   "id": "b89ae3ca-4be5-48a2-8297-05a0612cf236",
   "metadata": {},
   "outputs": [
    {
     "name": "stdout",
     "output_type": "stream",
     "text": [
      "<class 'pandas.core.frame.DataFrame'>\n",
      "RangeIndex: 912 entries, 0 to 911\n",
      "Data columns (total 5 columns):\n",
      " #   Column               Non-Null Count  Dtype         \n",
      "---  ------               --------------  -----         \n",
      " 0   id                   912 non-null    int64         \n",
      " 1   dispute_opened_date  912 non-null    datetime64[ns]\n",
      " 2   Category             912 non-null    object        \n",
      " 3   dispute_amount       912 non-null    float64       \n",
      " 4   charge_id            912 non-null    int64         \n",
      "dtypes: datetime64[ns](1), float64(1), int64(2), object(1)\n",
      "memory usage: 35.8+ KB\n"
     ]
    }
   ],
   "source": [
    "disputes = pd.read_csv('disputes.csv', parse_dates=['dispute_opened_date'], dayfirst=True)\n",
    "disputes.info()"
   ]
  },
  {
   "cell_type": "code",
   "execution_count": 3,
   "id": "1e562106-e4a1-47d2-94cf-482e6d9f2fff",
   "metadata": {},
   "outputs": [
    {
     "data": {
      "text/html": [
       "<div>\n",
       "<style scoped>\n",
       "    .dataframe tbody tr th:only-of-type {\n",
       "        vertical-align: middle;\n",
       "    }\n",
       "\n",
       "    .dataframe tbody tr th {\n",
       "        vertical-align: top;\n",
       "    }\n",
       "\n",
       "    .dataframe thead th {\n",
       "        text-align: right;\n",
       "    }\n",
       "</style>\n",
       "<table border=\"1\" class=\"dataframe\">\n",
       "  <thead>\n",
       "    <tr style=\"text-align: right;\">\n",
       "      <th></th>\n",
       "      <th>id</th>\n",
       "      <th>dispute_opened_date</th>\n",
       "      <th>Category</th>\n",
       "      <th>dispute_amount</th>\n",
       "      <th>charge_id</th>\n",
       "    </tr>\n",
       "  </thead>\n",
       "  <tbody>\n",
       "    <tr>\n",
       "      <th>0</th>\n",
       "      <td>42234</td>\n",
       "      <td>2020-02-06</td>\n",
       "      <td>Commercial</td>\n",
       "      <td>630.00</td>\n",
       "      <td>68514955</td>\n",
       "    </tr>\n",
       "    <tr>\n",
       "      <th>1</th>\n",
       "      <td>42235</td>\n",
       "      <td>2020-02-11</td>\n",
       "      <td>Commercial</td>\n",
       "      <td>673.03</td>\n",
       "      <td>68601530</td>\n",
       "    </tr>\n",
       "    <tr>\n",
       "      <th>2</th>\n",
       "      <td>42236</td>\n",
       "      <td>2020-02-06</td>\n",
       "      <td>Fraud</td>\n",
       "      <td>747.93</td>\n",
       "      <td>68730567</td>\n",
       "    </tr>\n",
       "    <tr>\n",
       "      <th>3</th>\n",
       "      <td>42237</td>\n",
       "      <td>2020-01-17</td>\n",
       "      <td>Fraud</td>\n",
       "      <td>250.00</td>\n",
       "      <td>68848364</td>\n",
       "    </tr>\n",
       "    <tr>\n",
       "      <th>4</th>\n",
       "      <td>42238</td>\n",
       "      <td>2020-07-03</td>\n",
       "      <td>Commercial</td>\n",
       "      <td>1665.03</td>\n",
       "      <td>69008749</td>\n",
       "    </tr>\n",
       "  </tbody>\n",
       "</table>\n",
       "</div>"
      ],
      "text/plain": [
       "      id dispute_opened_date    Category  dispute_amount  charge_id\n",
       "0  42234          2020-02-06  Commercial          630.00   68514955\n",
       "1  42235          2020-02-11  Commercial          673.03   68601530\n",
       "2  42236          2020-02-06       Fraud          747.93   68730567\n",
       "3  42237          2020-01-17       Fraud          250.00   68848364\n",
       "4  42238          2020-07-03  Commercial         1665.03   69008749"
      ]
     },
     "execution_count": 3,
     "metadata": {},
     "output_type": "execute_result"
    }
   ],
   "source": [
    "disputes.head()"
   ]
  },
  {
   "cell_type": "code",
   "execution_count": 4,
   "id": "59ac25c6-359b-485e-8a37-96312754c9ad",
   "metadata": {},
   "outputs": [],
   "source": [
    "disputes.to_csv('disputes_cleaned.csv',index=False)"
   ]
  }
 ],
 "metadata": {
  "kernelspec": {
   "display_name": "Python 3 (ipykernel)",
   "language": "python",
   "name": "python3"
  },
  "language_info": {
   "codemirror_mode": {
    "name": "ipython",
    "version": 3
   },
   "file_extension": ".py",
   "mimetype": "text/x-python",
   "name": "python",
   "nbconvert_exporter": "python",
   "pygments_lexer": "ipython3",
   "version": "3.9.7"
  }
 },
 "nbformat": 4,
 "nbformat_minor": 5
}
