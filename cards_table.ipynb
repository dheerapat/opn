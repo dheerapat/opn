{
 "cells": [
  {
   "cell_type": "code",
   "execution_count": 1,
   "id": "ecddfaef-422b-4218-8e59-0c277fdd7aa1",
   "metadata": {},
   "outputs": [],
   "source": [
    "import pandas as pd\n",
    "import numpy as np\n",
    "import datetime"
   ]
  },
  {
   "cell_type": "code",
   "execution_count": 2,
   "id": "0b203d7d-6b58-4346-884e-64870303cd6c",
   "metadata": {},
   "outputs": [
    {
     "name": "stdout",
     "output_type": "stream",
     "text": [
      "<class 'pandas.core.frame.DataFrame'>\n",
      "RangeIndex: 10051 entries, 0 to 10050\n",
      "Data columns (total 2 columns):\n",
      " #   Column        Non-Null Count  Dtype \n",
      "---  ------        --------------  ----- \n",
      " 0   card_id       10051 non-null  int64 \n",
      " 1   card_country  10048 non-null  object\n",
      "dtypes: int64(1), object(1)\n",
      "memory usage: 157.2+ KB\n"
     ]
    }
   ],
   "source": [
    "cards = pd.read_csv('cards.csv')\n",
    "cards.info()"
   ]
  },
  {
   "cell_type": "code",
   "execution_count": 3,
   "id": "f0211010-a127-4339-b005-1b048f9bd838",
   "metadata": {},
   "outputs": [],
   "source": [
    "cards['card_id'] = cards['card_id'].astype(dtype='float64')"
   ]
  },
  {
   "cell_type": "code",
   "execution_count": 4,
   "id": "fae97878-f353-4dc8-b60f-42878c5df59e",
   "metadata": {},
   "outputs": [
    {
     "name": "stdout",
     "output_type": "stream",
     "text": [
      "<class 'pandas.core.frame.DataFrame'>\n",
      "RangeIndex: 10051 entries, 0 to 10050\n",
      "Data columns (total 2 columns):\n",
      " #   Column        Non-Null Count  Dtype  \n",
      "---  ------        --------------  -----  \n",
      " 0   card_id       10051 non-null  float64\n",
      " 1   card_country  10048 non-null  object \n",
      "dtypes: float64(1), object(1)\n",
      "memory usage: 157.2+ KB\n"
     ]
    }
   ],
   "source": [
    "cards.info()"
   ]
  },
  {
   "cell_type": "code",
   "execution_count": 5,
   "id": "30fb0012-f700-49d0-948c-2473d8e23fd8",
   "metadata": {},
   "outputs": [],
   "source": [
    "cards.to_csv('cards_cleaned.csv',index=False)"
   ]
  }
 ],
 "metadata": {
  "kernelspec": {
   "display_name": "Python 3 (ipykernel)",
   "language": "python",
   "name": "python3"
  },
  "language_info": {
   "codemirror_mode": {
    "name": "ipython",
    "version": 3
   },
   "file_extension": ".py",
   "mimetype": "text/x-python",
   "name": "python",
   "nbconvert_exporter": "python",
   "pygments_lexer": "ipython3",
   "version": "3.9.7"
  }
 },
 "nbformat": 4,
 "nbformat_minor": 5
}
